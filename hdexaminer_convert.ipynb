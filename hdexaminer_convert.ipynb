{
  "nbformat": 4,
  "nbformat_minor": 0,
  "metadata": {
    "kernelspec": {
      "display_name": "Python 3 (ipykernel)",
      "language": "python",
      "name": "python3"
    },
    "language_info": {
      "codemirror_mode": {
        "name": "ipython",
        "version": 3
      },
      "file_extension": ".py",
      "mimetype": "text/x-python",
      "name": "python",
      "nbconvert_exporter": "python",
      "pygments_lexer": "ipython3",
      "version": "3.8.11"
    },
    "colab": {
      "name": "hdexaminer_convert.ipynb",
      "provenance": [],
      "collapsed_sections": []
    }
  },
  "cells": [
    {
      "cell_type": "markdown",
      "metadata": {
        "id": "8C_JV37odwDw"
      },
      "source": [
        "Script for converting HDExaminer output file to DynamX Cluster format<br>\n",
        "Andy M. C. Lau 2021<br>\n",
        "Copied from Github: https://github.com/andymlau/File-conversion-for-HDX"
      ]
    },
    {
      "cell_type": "code",
      "metadata": {
        "id": "9VdHILWNdwD0"
      },
      "source": [
        "import io\n",
        "import pandas as pd\n",
        "from google.colab import files"
      ],
      "execution_count": 11,
      "outputs": []
    },
    {
      "cell_type": "code",
      "metadata": {
        "id": "eszSlFSHgrVr"
      },
      "source": [
        "input = files.upload()"
      ],
      "execution_count": null,
      "outputs": []
    },
    {
      "cell_type": "code",
      "metadata": {
        "id": "d3a3OA8wdwD2"
      },
      "source": [
        "file = list(input.keys())[0]\n",
        "outname = file[:-4] + '_dynamx.csv'\n",
        "\n",
        "hde = pd.read_csv(io.BytesIO(input[file]))\n",
        "\n",
        "cluster_headers = ['Protein', 'Start', 'End', 'Sequence', 'Modification', 'Fragment',\n",
        "                    'MaxUptake', 'MHP', 'State', 'Exposure', 'File', 'z', 'RT', 'Inten', 'Center']\n",
        "\n",
        "dyn = hde[['Protein', 'Start', 'End', 'Sequence', 'Protein State', 'Experiment',\n",
        "            'Charge', 'Search RT', 'Max Inty', 'Exp Cent']]\n",
        "\n",
        "dyn = dyn.rename(columns={'Protein State': 'State', 'Experiment': 'File', 'Charge': 'z',\n",
        "                          'Search RT': 'RT', 'Max Inty': 'Inten', 'Exp Cent': 'Center'})\n",
        "\n",
        "dyn['MaxUptake'] = hde['Sequence'].replace({'P': ''}, regex=True).str.len()\n",
        "dyn['MHP'] = hde['Exp Cent'] - hde['# Deut'].fillna(0)\n",
        "dyn['Exposure'] = hde['Deut Time'].replace({'s': ''}, regex=True)\n",
        "dyn['Modification'] = \"\"\n",
        "dyn['Fragment'] = \"\"\n",
        "\n",
        "print(dyn[cluster_headers])\n",
        "\n",
        "dyn[cluster_headers].to_csv(outname, index=False)"
      ],
      "execution_count": null,
      "outputs": []
    },
    {
      "cell_type": "code",
      "metadata": {
        "colab": {
          "base_uri": "https://localhost:8080/",
          "height": 17
        },
        "id": "UqdwUBSJhWqk",
        "outputId": "f1d0e57b-c9a5-4fb9-b253-324ba61d09de"
      },
      "source": [
        "files.download(outname) "
      ],
      "execution_count": 24,
      "outputs": [
        {
          "output_type": "display_data",
          "data": {
            "application/javascript": [
              "\n",
              "    async function download(id, filename, size) {\n",
              "      if (!google.colab.kernel.accessAllowed) {\n",
              "        return;\n",
              "      }\n",
              "      const div = document.createElement('div');\n",
              "      const label = document.createElement('label');\n",
              "      label.textContent = `Downloading \"${filename}\": `;\n",
              "      div.appendChild(label);\n",
              "      const progress = document.createElement('progress');\n",
              "      progress.max = size;\n",
              "      div.appendChild(progress);\n",
              "      document.body.appendChild(div);\n",
              "\n",
              "      const buffers = [];\n",
              "      let downloaded = 0;\n",
              "\n",
              "      const channel = await google.colab.kernel.comms.open(id);\n",
              "      // Send a message to notify the kernel that we're ready.\n",
              "      channel.send({})\n",
              "\n",
              "      for await (const message of channel.messages) {\n",
              "        // Send a message to notify the kernel that we're ready.\n",
              "        channel.send({})\n",
              "        if (message.buffers) {\n",
              "          for (const buffer of message.buffers) {\n",
              "            buffers.push(buffer);\n",
              "            downloaded += buffer.byteLength;\n",
              "            progress.value = downloaded;\n",
              "          }\n",
              "        }\n",
              "      }\n",
              "      const blob = new Blob(buffers, {type: 'application/binary'});\n",
              "      const a = document.createElement('a');\n",
              "      a.href = window.URL.createObjectURL(blob);\n",
              "      a.download = filename;\n",
              "      div.appendChild(a);\n",
              "      a.click();\n",
              "      div.remove();\n",
              "    }\n",
              "  "
            ],
            "text/plain": [
              "<IPython.core.display.Javascript object>"
            ]
          },
          "metadata": {}
        },
        {
          "output_type": "display_data",
          "data": {
            "application/javascript": [
              "download(\"download_5df03032-f9f2-4ccc-9f9d-8be7bfb8c1d2\", \"HDExaminer_results_noinfo_dynamx.csv\", 2500)"
            ],
            "text/plain": [
              "<IPython.core.display.Javascript object>"
            ]
          },
          "metadata": {}
        }
      ]
    }
  ]
}
